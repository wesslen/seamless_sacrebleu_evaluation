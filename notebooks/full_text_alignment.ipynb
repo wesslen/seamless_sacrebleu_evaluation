{
  "nbformat": 4,
  "nbformat_minor": 0,
  "metadata": {
    "colab": {
      "provenance": [],
      "authorship_tag": "ABX9TyMUEB2I/U5Bb+DL8mjxkE4o",
      "include_colab_link": true
    },
    "kernelspec": {
      "name": "python3",
      "display_name": "Python 3"
    },
    "language_info": {
      "name": "python"
    }
  },
  "cells": [
    {
      "cell_type": "markdown",
      "metadata": {
        "id": "view-in-github",
        "colab_type": "text"
      },
      "source": [
        "<a href=\"https://colab.research.google.com/github/wesslen/seamless_sacrebleu_evaluation/blob/main/notebooks/full_text_alignment.ipynb\" target=\"_parent\"><img src=\"https://colab.research.google.com/assets/colab-badge.svg\" alt=\"Open In Colab\"/></a>"
      ]
    },
    {
      "cell_type": "code",
      "execution_count": null,
      "metadata": {
        "id": "aOSGk03H-keM"
      },
      "outputs": [],
      "source": [
        "import json\n",
        "from pathlib import Path\n",
        "from typing import Dict, List\n",
        "from langchain_community.document_loaders import Docx2txtLoader\n",
        "\n",
        "def validate_docx(file_path: str) -> bool:\n",
        "    \"\"\"Check if file is a valid DOCX.\"\"\"\n",
        "    import zipfile\n",
        "    try:\n",
        "        with zipfile.ZipFile(file_path) as zf:\n",
        "            return '[Content_Types].xml' in zf.namelist()\n",
        "    except zipfile.BadZipFile:\n",
        "        return False\n",
        "\n",
        "def load_document(file_path: str) -> str:\n",
        "    \"\"\"Load and extract text from a docx file.\"\"\"\n",
        "    try:\n",
        "        if not Path(file_path).exists():\n",
        "            raise FileNotFoundError(f\"File not found: {file_path}\")\n",
        "\n",
        "        if not validate_docx(file_path):\n",
        "            raise ValueError(f\"Invalid DOCX file: {file_path}\")\n",
        "\n",
        "        loader = Docx2txtLoader(file_path)\n",
        "        docs = loader.load()\n",
        "        return ' '.join(doc.page_content for doc in docs)\n",
        "    except Exception as e:\n",
        "        raise Exception(f\"Error loading document {file_path}: {str(e)}\")\n",
        "\n",
        "def process_documents(input_file: str, output_file: str):\n",
        "    \"\"\"Process document pairs from input JSONL and save extracted text.\"\"\"\n",
        "    try:\n",
        "        # Read input JSONL\n",
        "        with open(input_file, 'r', encoding='utf-8') as f:\n",
        "            document_pairs = [json.loads(line) for line in f]\n",
        "\n",
        "        # Process each pair\n",
        "        processed_pairs = []\n",
        "        for pair in document_pairs:\n",
        "            processed_pair = {\n",
        "                \"source\": load_document(pair[\"source\"]),\n",
        "                \"target\": load_document(pair[\"target\"])\n",
        "            }\n",
        "            processed_pairs.append(processed_pair)\n",
        "\n",
        "        # Write output JSONL\n",
        "        with open(output_file, 'w', encoding='utf-8') as f:\n",
        "            for pair in processed_pairs:\n",
        "                f.write(json.dumps(pair, ensure_ascii=False) + '\\n')\n",
        "\n",
        "    except Exception as e:\n",
        "        raise Exception(f\"Error processing documents: {str(e)}\")\n",
        "\n",
        "if __name__ == \"__main__\":\n",
        "    import argparse\n",
        "\n",
        "    parser = argparse.ArgumentParser(description='Extract text from paired documents')\n",
        "    parser.add_argument('input_file', help='Input JSONL file with document pairs')\n",
        "    parser.add_argument('output_file', help='Output JSONL file for extracted text')\n",
        "\n",
        "    args = parser.parse_args()\n",
        "    process_documents(args.input_file, args.output_file)"
      ]
    }
  ]
}